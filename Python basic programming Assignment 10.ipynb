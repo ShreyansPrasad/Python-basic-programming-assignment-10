{
 "cells": [
  {
   "cell_type": "markdown",
   "id": "abca66d1",
   "metadata": {},
   "source": [
    "#Answer1"
   ]
  },
  {
   "cell_type": "code",
   "execution_count": 1,
   "id": "06f58e22",
   "metadata": {},
   "outputs": [
    {
     "name": "stdout",
     "output_type": "stream",
     "text": [
      "sum is: 20\n"
     ]
    }
   ],
   "source": [
    "l=[1,4,6,9]\n",
    "s=0\n",
    "for i in l:\n",
    "    s=s+i\n",
    "print(\"sum is:\", s)"
   ]
  },
  {
   "cell_type": "code",
   "execution_count": 2,
   "id": "4560af26",
   "metadata": {},
   "outputs": [
    {
     "name": "stdout",
     "output_type": "stream",
     "text": [
      "sum is: 21\n"
     ]
    }
   ],
   "source": [
    "l=[1,4,6,10]\n",
    "s=sum(l)\n",
    "print(\"sum is:\",s)"
   ]
  },
  {
   "cell_type": "markdown",
   "id": "2129acb9",
   "metadata": {},
   "source": [
    "#Answer2"
   ]
  },
  {
   "cell_type": "code",
   "execution_count": 3,
   "id": "f1b0651d",
   "metadata": {},
   "outputs": [
    {
     "name": "stdout",
     "output_type": "stream",
     "text": [
      "multiplied value is: 120\n"
     ]
    }
   ],
   "source": [
    "l=[1,2,3,4,5]\n",
    "m=1\n",
    "for i in l:\n",
    "    m=m*i\n",
    "print(\"multiplied value is:\", m)"
   ]
  },
  {
   "cell_type": "markdown",
   "id": "95e723ad",
   "metadata": {},
   "source": [
    "#Answer3"
   ]
  },
  {
   "cell_type": "code",
   "execution_count": 6,
   "id": "f23aba09",
   "metadata": {},
   "outputs": [
    {
     "name": "stdout",
     "output_type": "stream",
     "text": [
      "smallest is: 1\n"
     ]
    }
   ],
   "source": [
    "l=[15,3,67,45,1,99,34]\n",
    "s=l[0]\n",
    "for i in l:\n",
    "    if i<s:\n",
    "        s=i\n",
    "print(\"smallest is:\",s)"
   ]
  },
  {
   "cell_type": "markdown",
   "id": "e3274742",
   "metadata": {},
   "source": [
    "#Answer4"
   ]
  },
  {
   "cell_type": "code",
   "execution_count": 8,
   "id": "4e2a24e3",
   "metadata": {},
   "outputs": [
    {
     "name": "stdout",
     "output_type": "stream",
     "text": [
      "largest is: 99\n"
     ]
    }
   ],
   "source": [
    "l=[15,3,67,45,1,99,34]\n",
    "s=l[0]\n",
    "for i in l:\n",
    "    if i>s:\n",
    "        s=i\n",
    "print(\"largest is:\",s)"
   ]
  },
  {
   "cell_type": "markdown",
   "id": "2cd05a9a",
   "metadata": {},
   "source": [
    "#Answer5"
   ]
  },
  {
   "cell_type": "code",
   "execution_count": 10,
   "id": "fbc1c12a",
   "metadata": {},
   "outputs": [
    {
     "name": "stdout",
     "output_type": "stream",
     "text": [
      "2nd largest is: 98\n"
     ]
    }
   ],
   "source": [
    "l=[15,3,67,45,1,98,99,34]\n",
    "s=l[0]\n",
    "q=l[0]\n",
    "for i in l:\n",
    "    if i>s:\n",
    "        s=i\n",
    "for i in l:\n",
    "    if i>q and i<s:\n",
    "        q=i\n",
    "print(\"2nd largest is:\",q)"
   ]
  },
  {
   "cell_type": "markdown",
   "id": "3132fe50",
   "metadata": {},
   "source": [
    "#Answer6"
   ]
  },
  {
   "cell_type": "code",
   "execution_count": 13,
   "id": "fa0af7f3",
   "metadata": {},
   "outputs": [
    {
     "name": "stdout",
     "output_type": "stream",
     "text": [
      "enter no.:3\n",
      "largest N elements are: [86, 79, 76]\n"
     ]
    }
   ],
   "source": [
    "l=[1,3,4,5,76,47,36,86,79]\n",
    "l1=[]\n",
    "n=int(input(\"enter no.:\"))\n",
    "for i in range(0,n):\n",
    "    s=0\n",
    "    for j in l:\n",
    "        if j>s:\n",
    "            s=j\n",
    "    l.remove(s)\n",
    "    l1.append(s)\n",
    "print(\"largest N elements are:\",l1)"
   ]
  },
  {
   "cell_type": "markdown",
   "id": "8a68ff50",
   "metadata": {},
   "source": [
    "#Answer7"
   ]
  },
  {
   "cell_type": "code",
   "execution_count": 14,
   "id": "522228e9",
   "metadata": {},
   "outputs": [
    {
     "name": "stdout",
     "output_type": "stream",
     "text": [
      "even no.s are: [2, 4, 6, 8]\n"
     ]
    }
   ],
   "source": [
    "l=[1,2,3,4,5,6,7,8]\n",
    "l1=[]\n",
    "for i in l:\n",
    "    if i%2==0:\n",
    "        l1.append(i)\n",
    "print(\"even no.s are:\",l1)"
   ]
  },
  {
   "cell_type": "markdown",
   "id": "ee607045",
   "metadata": {},
   "source": [
    "#Answer8"
   ]
  },
  {
   "cell_type": "code",
   "execution_count": 15,
   "id": "b6223a1d",
   "metadata": {},
   "outputs": [
    {
     "name": "stdout",
     "output_type": "stream",
     "text": [
      "odd no.s are: [1, 3, 5, 7]\n"
     ]
    }
   ],
   "source": [
    "l=[1,2,3,4,5,6,7,8]\n",
    "l1=[]\n",
    "for i in l:\n",
    "    if i%2!=0:\n",
    "        l1.append(i)\n",
    "print(\"odd no.s are:\",l1)"
   ]
  },
  {
   "cell_type": "markdown",
   "id": "8755c049",
   "metadata": {},
   "source": [
    "#Answer9"
   ]
  },
  {
   "cell_type": "code",
   "execution_count": 16,
   "id": "05e581ed",
   "metadata": {},
   "outputs": [
    {
     "name": "stdout",
     "output_type": "stream",
     "text": [
      "[1, 2, 4, 5, 7, 9]\n"
     ]
    }
   ],
   "source": [
    "l=[1,2,[],4,5,[],7,9]\n",
    "for i in l:\n",
    "    if i==[]:\n",
    "        l.remove(i)\n",
    "print(l)"
   ]
  },
  {
   "cell_type": "markdown",
   "id": "b959f83b",
   "metadata": {},
   "source": [
    "#Answer10"
   ]
  },
  {
   "cell_type": "code",
   "execution_count": 20,
   "id": "5e7772fb",
   "metadata": {},
   "outputs": [
    {
     "name": "stdout",
     "output_type": "stream",
     "text": [
      "cloned list is: [1, 2, 4, 3, 7, 88, 99]\n"
     ]
    }
   ],
   "source": [
    "l=[1,2,4,3,7,88,99]\n",
    "l1=l\n",
    "print(\"cloned list is:\",l1)"
   ]
  },
  {
   "cell_type": "markdown",
   "id": "f9ee909f",
   "metadata": {},
   "source": [
    "#Answer11"
   ]
  },
  {
   "cell_type": "code",
   "execution_count": 22,
   "id": "3a26c06a",
   "metadata": {},
   "outputs": [
    {
     "name": "stdout",
     "output_type": "stream",
     "text": [
      "the count of 5 in l is: 4\n"
     ]
    }
   ],
   "source": [
    "l=[1,4,5,6,7,3,5,8,5,7,3,2,99,5,6,8]\n",
    "a=l.count(5)\n",
    "print(\"the count of 5 in l is:\",a)"
   ]
  },
  {
   "cell_type": "code",
   "execution_count": null,
   "id": "da6553f1",
   "metadata": {},
   "outputs": [],
   "source": []
  }
 ],
 "metadata": {
  "kernelspec": {
   "display_name": "Python 3 (ipykernel)",
   "language": "python",
   "name": "python3"
  },
  "language_info": {
   "codemirror_mode": {
    "name": "ipython",
    "version": 3
   },
   "file_extension": ".py",
   "mimetype": "text/x-python",
   "name": "python",
   "nbconvert_exporter": "python",
   "pygments_lexer": "ipython3",
   "version": "3.9.7"
  }
 },
 "nbformat": 4,
 "nbformat_minor": 5
}
